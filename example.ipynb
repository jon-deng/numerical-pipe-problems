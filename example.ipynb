{
 "cells": [
  {
   "cell_type": "markdown",
   "id": "e9070b32-a714-4b8e-ad10-67d2a5ce289f",
   "metadata": {},
   "source": [
    "# Numerical solution of pipe problems\n",
    "\n",
    "Solving for flow rate $Q$ in pipe problems is often tricky because pressure/heads are related to flow rate through complicated functions.\n",
    "In the case of pipe losses, there is the dependence of friction factor on Reynold's number (the flow speed in Reynolds number is related to $Q/A$). \n",
    "This makes it difficult to analytically \"move $Q$ to one side\" of the equation and solve.\n",
    "\n",
    "For practical problems you usually have to solve for $Q$ numerically.\n",
    "\n",
    "A common way to do this is to rearrange the equation so that the solution is a 'root'. \n",
    "You might have learned strategies like this in your \"SYDE 311: Advanced mathematics\" course.\n",
    "This is shown below."
   ]
  },
  {
   "cell_type": "code",
   "execution_count": null,
   "id": "197b9b73-30a3-435a-b631-411d0457d0f7",
   "metadata": {},
   "outputs": [],
   "source": [
    "import numpy as np"
   ]
  },
  {
   "cell_type": "code",
   "execution_count": null,
   "id": "b92bf002-b6d4-4d53-b27d-eae384df6967",
   "metadata": {},
   "outputs": [],
   "source": [
    "# Some constants we will use\n",
    "G = 9.81\n",
    "\n",
    "# Water properties\n",
    "RHO = 1000\n",
    "MU = 1e-3"
   ]
  },
  {
   "cell_type": "markdown",
   "id": "a181ca33-d59e-46f0-be9e-201b1df6a7ce",
   "metadata": {},
   "source": [
    "## Solving for the friction factor\n",
    "\n",
    "Solving for the friction factor requires numerical methods since you can't move 'f' over to one side.\n",
    "\n",
    "Recall for turbulent flow, the friction factor is given by the Colebrook-white relation:\n",
    "$$\n",
    "\\frac{1}{f^{1/2}} = -2\\log(\\frac{\\epsilon/d}{3.7} + \\frac{2.51}{\\mathrm{Re}_\\mathrm{d} f^{1/2}})\n",
    "$$\n",
    "\n",
    "To solve this numerically for a given $Re$ and $\\epsilon/d$, we rearrange the equation:\n",
    "$$\n",
    "\\frac{1}{f^{1/2}} + 2\\log(\\frac{\\epsilon/d}{3.7} + \\frac{2.51}{\\mathrm{Re}_\\mathrm{d} f^{1/2}}) = 0\n",
    "$$\n",
    "The 'root' of the left expression is the friction factor, $f$.\n",
    "\n",
    "There are well-developed numerical methods for finding roots you can use to solve this (in matlab and python, for example).\n",
    "\n",
    "Root methods often require an \"initial guess\" of the root to work. \n",
    "For this guess, we can use the strategy in class and assume $f$ is completely turbulent.\n",
    "\n",
    "### Complete turbulence\n",
    "Notice that for complete turbulence, $Re\\to\\infty$ and $\\frac{2.51}{\\mathrm{Re}_\\mathrm{d} f^{1/2}} \\to 0$. \n",
    "The colebrook-white relation is then \n",
    "$$\n",
    "\\frac{1}{f^{1/2}} + 2\\log(\\frac{\\epsilon/d}{3.7}) = 0\n",
    "$$\n",
    "You can easily rearrange for $f$ and solve this!"
   ]
  },
  {
   "cell_type": "code",
   "execution_count": null,
   "id": "30db1f47-e45b-46f9-aaaf-3de0377e4337",
   "metadata": {},
   "outputs": [],
   "source": [
    "# This is the rearranged expression from above\n",
    "def colebrook_white(friction_factor, reynolds_number, rel_roughness):\n",
    "    \"\"\"\n",
    "    Return the \"Colebrook-White\" correlation residual\n",
    "    \"\"\"\n",
    "    f = friction_factor\n",
    "    re = reynolds_number\n",
    "    rel_eps = rel_roughness\n",
    "    return 1/f**0.5 + 2*np.log10(rel_eps/3.7 + 2.51/(re*f**0.5))\n",
    "\n",
    "def colebrook_white_complete_turbulence(rel_roughness):\n",
    "    \"\"\"\n",
    "    Return the \"Colebrook-White\" friction factor for complete turbulence\n",
    "\n",
    "    Complete turbulence occurs as Reynold's number tends to infinity.\n",
    "    In this case, the Colebrook-White equations can be explicitly solved for the friction factor\n",
    "    , which depends only on relative roughness.\n",
    "    \"\"\"\n",
    "    rel_eps = rel_roughness\n",
    "    return (-2*np.log(rel_eps/3.7))**(-2)"
   ]
  },
  {
   "cell_type": "code",
   "execution_count": null,
   "id": "6fb537b0-2463-4f7c-a88e-ec0a1fb5a718",
   "metadata": {},
   "outputs": [],
   "source": [
    "from scipy.optimize import root_scalar\n",
    "\n",
    "# Imagine we have Re = 5000, and eps/d = 0.05\n",
    "# Here's \n",
    "re = 5000\n",
    "rel_eps = 0.05\n",
    "\n",
    "# we can assume complete turbulence for out initial guess\n",
    "f_complete = colebrook_white_complete_turbulence(rel_eps)\n",
    "sol = root_scalar(colebrook_white, args=(re, rel_eps), x0=f_complete)\n",
    "f = sol['root']\n",
    "\n",
    "# Compare the solution you get here with the Moody chart!\n",
    "print(f)"
   ]
  },
  {
   "cell_type": "code",
   "execution_count": null,
   "id": "13da70d0-42f9-42e9-9d2b-e4c1cf16cb3e",
   "metadata": {},
   "outputs": [],
   "source": [
    "# Use the strategy above to create a function that can return friction factors!   \n",
    "def friction_factor(reynolds_number, rel_roughness):\n",
    "    \"\"\"\n",
    "    Return the turbulent friction factor from the \"Moody diagram\"\n",
    "    \"\"\"\n",
    "    re = reynolds_number\n",
    "    rel_eps = rel_roughness\n",
    "    \n",
    "    f_complete = colebrook_white_complete_turbulence(rel_eps)\n",
    "    sol = root_scalar(colebrook_white, args=(re, rel_eps), x0=f_complete)\n",
    "    f = sol['root']\n",
    "    return f"
   ]
  },
  {
   "cell_type": "markdown",
   "id": "c7994ec2-2dbd-409d-9c89-e3ae821d5621",
   "metadata": {},
   "source": [
    "## Solving a pipe problem\n",
    "\n",
    "Similar to the friction factor, solving the conservation of energy equation for $Q$ is difficult analytically.\n",
    "We can use the same 'root' approach to solve these.\n",
    "\n",
    "Imagine the simple pipe problem shown:\n",
    "\n",
    "![title](SimplePipeProblem.png)\n",
    "\n",
    "We know:\n",
    "- inlet conditions $p_1=50 Pa, z_1 = 0$\n",
    "- outlet conditions $p_2=0 Pa, z_2 = 0$\n",
    "- pipe properties $d=10 cm, \\epsilon=1 mm$\n",
    "\n",
    "\n",
    "Conservation of energy for this problem should take the form\n",
    "$$\n",
    "(\\frac{p_1}{\\rho g} + \\frac{v_1^2}{2g} + z_1) = (\\frac{p_2}{\\rho g} + \\frac{v_2^2}{2g} + z_2) + h_f\n",
    "$$\n",
    "where $h_f$ is the head loss from the pipe.\n",
    "Our goal is to find $Q$ from this."
   ]
  },
  {
   "cell_type": "code",
   "execution_count": null,
   "id": "0424fd94-7c69-443e-a19e-8f4a2252b73b",
   "metadata": {},
   "outputs": [],
   "source": [
    "# The known inlet conditions at 1 are:\n",
    "# 50 Pa, 1cm^2, 0 m elevation\n",
    "# p1 = 50 Pa, \n",
    "p_1 = 50\n",
    "area_1 = 1e-2 ** 2\n",
    "z_1 = 0\n",
    "\n",
    "def head_1(Q):\n",
    "    # This is the \"head\" at 1\n",
    "    # Note it depends on Q\n",
    "    v = (Q/area_1)**2\n",
    "    return p_1/(RHO*G) + (v)**2/(2*G) + z_1"
   ]
  },
  {
   "cell_type": "code",
   "execution_count": null,
   "id": "ccc9b2be-4007-4c19-a80e-8c689a238c98",
   "metadata": {},
   "outputs": [],
   "source": [
    "# The known outlet conditions at 2 are:\n",
    "# 0 Pa, 1cm^2, 0 m elevation\n",
    "# p1 = 50 Pa, \n",
    "p_2 = 00\n",
    "area_2 = 1e-2 ** 2\n",
    "z_2 = 0\n",
    "\n",
    "def head_2(Q):\n",
    "    # This is the \"head\" at 2\n",
    "    # Note it depends on Q\n",
    "    v = (Q/area_2)**2\n",
    "    return p_2/(RHO*G) + (v)**2/(2*G) + z_2"
   ]
  },
  {
   "cell_type": "code",
   "execution_count": null,
   "id": "1667c859-ce2a-4cb1-a36f-ecbd1bebe283",
   "metadata": {},
   "outputs": [],
   "source": [
    "# Pipe head loss\n",
    "\n",
    "# Pipe's relative roughness\n",
    "eps = 1e-3\n",
    "d_pipe = 10e-2\n",
    "rel_eps = 1e-3/d_pipe\n",
    "length = 1\n",
    "\n",
    "area_pipe = np.pi*(d_pipe/2)**2\n",
    "\n",
    "def head_f(Q):\n",
    "    # This is the \"head\" loss over the pipe\n",
    "    # Note it depends on Q\n",
    "    v = (Q/area_pipe)**2\n",
    "    re = RHO*v*d_pipe / MU\n",
    "\n",
    "    # Note this comes from our Colebrook-white relation\n",
    "    f = friction_factor(re, rel_eps)\n",
    "    return length/d_pipe * v**2/(2*G)*f"
   ]
  },
  {
   "cell_type": "code",
   "execution_count": null,
   "id": "ab7f27ae-9946-4ecc-b5f7-73c885336522",
   "metadata": {},
   "outputs": [],
   "source": [
    "# The energy equations says:\n",
    "def energy_equation(Q):\n",
    "    return head_1(Q) - head_2(Q) - head_f(Q)\n",
    "\n",
    "# Here we guess Q = 1m^3/s as the initial guess\n",
    "# There's probably much better ways to guess Q! (e.g. assume no head losses)\n",
    "sol = root_scalar(energy_equation, x0=1)\n",
    "print(sol)\n",
    "print(sol['root'])"
   ]
  },
  {
   "cell_type": "code",
   "execution_count": null,
   "id": "e2fa8042-5816-4867-b0af-075f8881c88f",
   "metadata": {},
   "outputs": [],
   "source": []
  }
 ],
 "metadata": {
  "kernelspec": {
   "display_name": "Python 3 (ipykernel)",
   "language": "python",
   "name": "python3"
  },
  "language_info": {
   "codemirror_mode": {
    "name": "ipython",
    "version": 3
   },
   "file_extension": ".py",
   "mimetype": "text/x-python",
   "name": "python",
   "nbconvert_exporter": "python",
   "pygments_lexer": "ipython3",
   "version": "3.12.2"
  }
 },
 "nbformat": 4,
 "nbformat_minor": 5
}
